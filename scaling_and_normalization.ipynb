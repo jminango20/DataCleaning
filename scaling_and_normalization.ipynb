{
  "nbformat": 4,
  "nbformat_minor": 0,
  "metadata": {
    "colab": {
      "name": "scaling-and-normalization.ipynb",
      "provenance": [],
      "authorship_tag": "ABX9TyM1qs3hqiRDahWPlujUhRCu",
      "include_colab_link": true
    },
    "kernelspec": {
      "name": "python3",
      "display_name": "Python 3"
    }
  },
  "cells": [
    {
      "cell_type": "markdown",
      "metadata": {
        "id": "view-in-github",
        "colab_type": "text"
      },
      "source": [
        "<a href=\"https://colab.research.google.com/github/jminango20/DataCleaning/blob/master/scaling_and_normalization.ipynb\" target=\"_parent\"><img src=\"https://colab.research.google.com/assets/colab-badge.svg\" alt=\"Open In Colab\"/></a>"
      ]
    },
    {
      "cell_type": "markdown",
      "metadata": {
        "id": "3aj1x23DgzWt",
        "colab_type": "text"
      },
      "source": [
        "## Scaling and Normalization\n",
        "\n",
        "In this notebook, we're going to be looking at how to scale and normalize data (and what the difference is between the two!).\n",
        "\n",
        "Let's get started!"
      ]
    },
    {
      "cell_type": "markdown",
      "metadata": {
        "id": "tBOWMW_Qg-lY",
        "colab_type": "text"
      },
      "source": [
        "## Get our environment set up\n",
        "\n",
        "The first thing we'll need to do is load in the libraries we'll be using."
      ]
    },
    {
      "cell_type": "code",
      "metadata": {
        "id": "SF9vtq4wggEU",
        "colab_type": "code",
        "colab": {
          "base_uri": "https://localhost:8080/",
          "height": 70
        },
        "outputId": "19f44dc7-5f15-473b-f0cb-aa2cdaeabf6f"
      },
      "source": [
        "#Libraries\n",
        "import pandas as pd\n",
        "import numpy as np\n",
        "\n",
        "#for Box-Cox Transformation (Normalization)\n",
        "from scipy import stats\n",
        "\n",
        "#for mix-max scaling\n",
        "from mlxtend.preprocessing import minmax_scaling\n",
        "\n",
        "#plotting modules\n",
        "import seaborn as sns\n",
        "import matplotlib.pyplot as plt\n",
        "\n",
        "#set seed for reproducibility\n",
        "np.random.seed(0) "
      ],
      "execution_count": 2,
      "outputs": [
        {
          "output_type": "stream",
          "text": [
            "/usr/local/lib/python3.6/dist-packages/statsmodels/tools/_testing.py:19: FutureWarning: pandas.util.testing is deprecated. Use the functions in the public API at pandas.testing instead.\n",
            "  import pandas.util.testing as tm\n"
          ],
          "name": "stderr"
        }
      ]
    },
    {
      "cell_type": "markdown",
      "metadata": {
        "id": "52vI1tKoh-aQ",
        "colab_type": "text"
      },
      "source": [
        "## Scaling vs. Normalization: What's the difference?\n",
        "\n",
        "One of the reasons that it's easy to get confused between scaling and normalization is because the terms are sometimes used interchangeably and, to make it even more confusing, they are very similar! In both cases, you're transforming the values of numeric variables so that the transformed data points have specific helpful properties. The difference is that:\n",
        "\n",
        "* **in scaling, you're changing the range of your data,**\n",
        "* **in normalization, you're changing the shape of the distribution of your data.**\n",
        "\n",
        "Let's talk a little more in-depth about each of these options."
      ]
    },
    {
      "cell_type": "markdown",
      "metadata": {
        "id": "ZMs4gr5yiN0n",
        "colab_type": "text"
      },
      "source": [
        "## Scaling\n",
        "\n",
        "This means that you're transforming your data so that it fits within a specific scale, like 0-100 or 0-1. You want to scale data when you're using methods based on measures of how far apart data points are.\n",
        "\n",
        "By scaling your variables, you can help compare different variables on equal footing. To help solidify what scaling looks like, let's look at a made-up example."
      ]
    },
    {
      "cell_type": "code",
      "metadata": {
        "id": "ovtsyXcWhNO6",
        "colab_type": "code",
        "colab": {}
      },
      "source": [
        "# generate 1000 data points randomly drawn from an exponential distribution\n",
        "original_data = np.random.exponential(size=1000)"
      ],
      "execution_count": 5,
      "outputs": []
    },
    {
      "cell_type": "code",
      "metadata": {
        "id": "SXv6rrS6i30O",
        "colab_type": "code",
        "colab": {}
      },
      "source": [
        "# mix-max scale the data between 0 and 1\n",
        "scaled_data = minmax_scaling(original_data,columns=[0])"
      ],
      "execution_count": 8,
      "outputs": []
    },
    {
      "cell_type": "code",
      "metadata": {
        "id": "UbSmixY-jJgD",
        "colab_type": "code",
        "colab": {
          "base_uri": "https://localhost:8080/",
          "height": 298
        },
        "outputId": "1e7e73c3-c5f1-4af5-b3bc-16359c3becc9"
      },
      "source": [
        "# plot both together to compare\n",
        "fig, ax = plt.subplots(1,2)\n",
        "sns.distplot(original_data,ax=ax[0])\n",
        "ax[0].set_title(\"Original Data\")\n",
        "sns.distplot(scaled_data,ax=ax[1])\n",
        "ax[1].set_title(\"Scaled Data\")\n"
      ],
      "execution_count": 14,
      "outputs": [
        {
          "output_type": "execute_result",
          "data": {
            "text/plain": [
              "Text(0.5, 1.0, 'Scaled Data')"
            ]
          },
          "metadata": {
            "tags": []
          },
          "execution_count": 14
        },
        {
          "output_type": "display_data",
          "data": {
            "image/png": "[encoded data removed]",
            "text/plain": [
              "<Figure size 432x288 with 2 Axes>"
            ]
          },
          "metadata": {
            "tags": [],
            "needs_background": "light"
          }
        }
      ]
    },
    {
      "cell_type": "markdown",
      "metadata": {
        "id": "WFvlVKWBkIkF",
        "colab_type": "text"
      },
      "source": [
        "Notice that the shape of the data doesn't change, but that instead of ranging from 0 to 8ish, it now ranges from 0 to 1."
      ]
    },
    {
      "cell_type": "markdown",
      "metadata": {
        "id": "cT8Fpcz7kMBv",
        "colab_type": "text"
      },
      "source": [
        "## Normalization\n",
        "Scaling just changes the range of your data. Normalization is a more radical transformation. The point of normalization is to change your observations so that they can be described as a normal distribution.\n",
        "\n",
        "**Normal distribution**: Also known as the \"bell curve\", this is a specific statistical distribution where a roughly equal observations fall above and below the mean, the mean and the median are the same, and there are more observations closer to the mean. The normal distribution is also known as the Gaussian distribution.\n",
        "\n",
        "The method we're using to normalize here is called the Box-Cox Transformation. Let's take a quick peek at what normalizing some data looks like:"
      ]
    },
    {
      "cell_type": "code",
      "metadata": {
        "id": "JdwsOPUkjlgr",
        "colab_type": "code",
        "colab": {
          "base_uri": "https://localhost:8080/",
          "height": 1000
        },
        "outputId": "995015c8-850c-4564-9285-49e52db18811"
      },
      "source": [
        "# normalize the exponential data with boxcox\n",
        "normalized_data = stats.boxcox(original_data)"
      ],
      "execution_count": 22,
      "outputs": [
        {
          "output_type": "execute_result",
          "data": {
            "text/plain": [
              "(array([ 5.47581176e-01, -4.12555855e-01, -2.88958463e-01, -1.06315061e+00,\n",
              "        -7.29715228e-02, -8.95903244e-01, -1.46736679e-01, -1.36376774e+00,\n",
              "        -1.40735613e+00, -5.70141518e-01, -5.43696334e-01, -1.00521077e+00,\n",
              "        -1.53605089e+00, -2.18376758e+00, -2.36757132e+00, -9.94104246e-01,\n",
              "        -4.50167887e-01,  2.67785087e-01, -4.15753523e-01,  9.53087246e-01,\n",
              "        -2.23063488e+00, -1.31862775e+00, -7.89849369e-01, -1.46175885e-01,\n",
              "         7.07898888e-01, -7.56071569e-01, -1.00560127e+00, -1.96746220e+00,\n",
              "         5.83633735e-01, -6.72755029e-01, -1.61877362e-01,  1.70596653e+00,\n",
              "        -3.13313587e+00, -1.47013361e+00,  4.34972407e-01,  5.24594559e-01,\n",
              "         4.02432920e-01, -2.52684992e-01,  1.61568566e+00, -6.27027015e-01,\n",
              "        -8.12525828e-02, -1.95545027e+00, -5.89620660e-01,  2.56531436e-01,\n",
              "        -1.10315901e+00,  1.21654148e+00,  1.52079440e-01, -9.43272862e-01,\n",
              "         4.01623210e-01, -1.81082668e+00,  1.54962027e+00, -2.07898904e+00,\n",
              "         1.13740922e+00, -1.05534601e+00,  3.65597245e-01, -3.53315183e+00,\n",
              "        -1.05072709e+00,  3.38023973e-01, -2.64905776e-01, -1.62147341e+00,\n",
              "        -6.34059235e-01, -6.84254225e-01, -1.70811398e-01,  9.88713050e-02,\n",
              "         6.59132201e-01, -3.56924398e-01, -6.38492692e-01, -1.47694994e+00,\n",
              "         5.23509703e-01,  2.29347323e-01, -5.92834576e-01, -3.01334312e-01,\n",
              "         9.10535891e-02, -1.38436419e+00, -2.33786061e+00, -8.51802438e-01,\n",
              "        -9.82034848e-02, -3.84843956e-01,  1.68632982e-01,  5.77612819e-01,\n",
              "        -3.80014522e-01, -1.52301174e+00,  6.99093992e-01, -1.52796632e-01,\n",
              "         3.09535946e-01,  2.03752100e-01,  1.45943864e+00, -9.19236344e-01,\n",
              "         2.05629612e-01, -7.12010540e-01, -6.29155548e-01, -1.13143849e+00,\n",
              "        -7.73909639e-01,  1.25400787e+00, -9.27708895e-01, -1.07841274e+00,\n",
              "        -1.31249159e-01, -1.03814562e+00, -4.19674628e-01,  6.32825866e-01,\n",
              "        -1.13211984e+00, -5.44041379e-01, -5.83862299e-02, -2.30053119e-01,\n",
              "         1.54884823e+00,  1.33813610e-01,  3.09562964e-01,  1.44389289e+00,\n",
              "        -5.77169672e-01, -7.41248287e-01, -2.13326090e+00, -1.30441653e+00,\n",
              "        -1.10849764e+00, -1.30721006e+00,  3.55935364e-01, -2.55610041e-01,\n",
              "         9.79097462e-02,  5.80490783e-01, -1.13081008e+00, -8.26772075e-01,\n",
              "         2.14580018e-01, -6.36459389e-01, -2.30816821e+00, -5.21833632e-01,\n",
              "         9.76857026e-01, -5.91897098e-01, -8.08150944e-01,  1.85820683e+00,\n",
              "         3.35726603e-02, -7.11101978e-01, -1.69365064e+00,  4.64422602e-01,\n",
              "         2.13742078e-01,  1.05928298e+00, -1.17889576e+00, -1.62162264e+00,\n",
              "         2.61250960e-01, -1.23012655e+00, -1.33714978e+00, -8.44926343e-01,\n",
              "         5.66998995e-01, -2.46032053e-01, -2.11283953e+00, -4.44761893e-01,\n",
              "         1.44077547e-01, -2.49094737e-01, -1.59502533e-01, -1.15197406e+00,\n",
              "         6.87151444e-01, -1.88622858e-01,  2.28979422e-01,  1.67130071e+00,\n",
              "        -5.39983231e-01,  8.34761050e-01, -2.78128926e+00, -2.25318764e+00,\n",
              "        -1.12308609e-01, -8.69979058e-01, -1.07069266e+00, -9.73679382e-01,\n",
              "        -8.49115744e-01,  2.75956695e-01, -1.68086357e-01,  4.68469563e-01,\n",
              "         6.17388483e-01,  6.67588533e-01, -5.76610276e-01, -5.58658691e-01,\n",
              "         1.08769315e+00,  8.15157341e-02, -1.82902678e+00, -2.39082084e-01,\n",
              "        -7.39457644e-01,  1.79820060e+00, -2.58914605e+00, -5.38489291e-02,\n",
              "         2.59900873e-01, -9.39112273e-01,  1.53281695e+00,  7.36841987e-01,\n",
              "         1.02028695e+00, -2.47012376e+00, -1.66303438e-01, -9.21267391e-01,\n",
              "         6.92464598e-01,  1.98240403e-03, -2.47761427e-01, -1.62342918e+00,\n",
              "        -2.44232825e-01, -5.88225320e-04,  1.32388799e+00, -1.26180897e-01,\n",
              "         1.44934343e+00,  1.38242149e+00,  4.94802871e-02, -3.34160205e-01,\n",
              "        -4.39132698e-01,  8.80683643e-01, -2.32249797e+00, -1.62763401e+00,\n",
              "        -1.69334742e+00,  3.62766735e-01, -7.86544471e-01,  1.59299118e-02,\n",
              "        -7.63399701e-02, -6.55623721e-01, -2.66919207e-01,  3.55566727e-02,\n",
              "         1.19357911e+00, -1.51096298e-01, -4.79758060e-02, -1.92018647e+00,\n",
              "         1.28891687e+00, -2.76052766e-01,  5.10931844e-01, -2.06939472e+00,\n",
              "        -5.59640443e-01, -1.04165096e+00, -1.00888458e+00,  4.76753059e-01,\n",
              "        -2.23730574e-02, -5.09005842e-01, -2.67082814e+00,  1.41973726e+00,\n",
              "         1.38696658e+00, -1.17789403e+00, -2.16007545e+00, -2.70504762e-01,\n",
              "         1.28157479e+00,  9.89092992e-01, -1.27209521e-01, -8.93937763e-01,\n",
              "        -8.14869734e-01,  9.19778822e-01, -3.71231246e-01, -1.53841593e+00,\n",
              "        -1.07019108e+00, -9.77310381e-01, -1.57642745e+00, -4.47013327e-01,\n",
              "         1.02270369e+00,  1.01128843e-01, -1.88554455e+00, -2.85747126e+00,\n",
              "        -9.79055287e-01, -7.20450468e-01,  4.27117234e-01,  1.44449774e+00,\n",
              "        -6.50804446e-01,  1.51812641e-01,  2.07961834e+00,  3.27292748e-01,\n",
              "         1.10767439e-02, -1.84552064e+00, -8.34793489e-01,  1.00671110e+00,\n",
              "        -1.23914964e+00,  6.70236175e-01,  1.79505857e-01, -7.10180576e-01,\n",
              "        -2.73190714e-01, -2.37457252e-01,  2.31369639e-01, -3.06250707e-01,\n",
              "        -1.52880707e+00,  4.16225950e-01, -5.99392596e-01,  1.39881157e+00,\n",
              "        -9.56022791e-01, -1.02157768e+00, -8.04463635e-01, -1.59854045e-01,\n",
              "         9.03760543e-01, -1.33642169e+00, -9.68142695e-01, -1.35109852e-01,\n",
              "        -4.70117460e-01, -4.88774914e-01,  5.81506368e-01,  1.07195659e+00,\n",
              "        -3.98791125e-01,  1.53704870e-01,  5.10174948e-01, -3.01506974e-01,\n",
              "        -9.22300087e-01,  1.62467318e-02, -1.26026940e-01,  9.39414527e-01,\n",
              "        -2.04964518e+00,  9.87557745e-01, -2.59412953e-01, -2.54249670e+00,\n",
              "        -7.71909789e-01,  2.62035540e-01, -3.80039182e-01,  1.63892172e+00,\n",
              "        -5.55048047e-01, -8.24670439e-01,  5.85012851e-01, -2.24075829e-01,\n",
              "         1.39371698e-01,  5.26645008e-01,  1.08554942e-01, -5.55595066e-01,\n",
              "        -1.57004942e+00, -1.38898529e-01,  9.17230423e-01, -5.65097548e-01,\n",
              "         9.91009572e-01, -3.40402427e-01, -3.05428360e-02,  6.28195914e-01,\n",
              "        -1.80203791e-01, -1.76034189e+00,  1.65420439e+00, -1.07889119e+00,\n",
              "         2.20889949e-01, -3.36243800e-01, -4.05467771e-01, -1.08536760e+00,\n",
              "         2.55484516e-01, -1.63316125e+00,  1.88813002e+00,  6.77472569e-01,\n",
              "        -2.59211379e-01, -5.49805110e-01, -9.46751014e-01, -3.45481975e-01,\n",
              "         8.26876397e-01, -9.83019514e-01, -3.48247449e-01, -1.11763786e+00,\n",
              "        -7.93825693e-01, -1.28050133e+00,  1.89102061e+00, -1.62016527e-01,\n",
              "         2.87704038e-01, -1.71582946e+00, -7.10764481e-01,  8.92221923e-01,\n",
              "        -1.80237436e+00, -1.38147763e+00, -1.81785856e-02, -2.52853835e-02,\n",
              "         6.48764340e-01,  1.15219726e+00, -1.48622572e+00, -1.03373407e+00,\n",
              "        -5.41967789e-01, -3.23290340e+00, -1.90530161e+00, -1.14589355e+00,\n",
              "        -3.99331040e-01, -1.05979388e+00,  8.13950482e-01, -8.31657984e-01,\n",
              "         1.07682539e+00,  1.54981411e+00, -4.82012954e-01, -1.14363826e+00,\n",
              "        -9.30518233e-01,  4.25737782e-01, -9.88324309e-01, -6.70201193e-01,\n",
              "        -4.05986363e-01, -1.52477616e-01,  2.15629951e+00, -1.12578757e+00,\n",
              "        -7.46838495e-01, -1.02219112e+00, -7.24929105e-01, -1.70073839e+00,\n",
              "        -7.28631089e-01,  8.68042215e-01, -9.09121461e-01, -6.94385758e-01,\n",
              "         1.22182111e+00,  2.74235418e-01, -3.05771795e-01,  4.28587890e-01,\n",
              "        -1.57830855e+00, -4.43185038e-01, -1.60400900e+00, -1.12087744e+00,\n",
              "        -1.48678400e+00, -7.22977969e-01, -6.67259698e-01,  1.24552127e+00,\n",
              "        -1.01815839e+00, -4.22200496e-01,  5.47076444e-01,  5.62552969e-01,\n",
              "         3.41923737e-01, -9.42464708e-01, -3.62857830e-01, -1.29643898e+00,\n",
              "        -1.28780149e+00, -5.19458564e-01,  3.05392165e-01, -2.79976679e-01,\n",
              "         8.62163249e-01,  6.20135564e-01, -2.27649771e+00, -1.70134516e-01,\n",
              "        -6.19475385e-02,  1.38208555e+00, -2.39949230e+00, -2.68134938e-01,\n",
              "        -1.22492450e+00, -2.03818854e+00, -1.19717754e-01,  4.13427554e-01,\n",
              "         4.20879309e-01, -2.29414888e+00, -5.97553784e-01, -2.12654143e+00,\n",
              "        -1.07216867e+00, -1.27029403e+00, -1.18649980e+00, -7.88092679e-01,\n",
              "        -9.75325508e-01,  1.38978232e+00, -7.49748367e-01,  9.00135347e-01,\n",
              "        -1.31709167e+00,  3.84588248e-01, -1.97192532e+00, -4.47763218e-01,\n",
              "        -2.85673062e+00,  5.43132422e-01,  1.27325274e+00, -2.23200930e+00,\n",
              "         1.14021832e+00,  4.17541272e-01, -7.31326759e-01,  9.80315420e-01,\n",
              "        -9.16303773e-01, -5.91151336e-01, -1.72504643e+00,  6.81091947e-02,\n",
              "        -2.30358479e+00, -3.89318603e-01,  1.41833862e-01,  5.83387332e-01,\n",
              "        -1.44962398e+00,  3.53739284e-01,  2.46296197e-01, -1.93432337e-01,\n",
              "        -1.27257924e-01, -1.75845244e+00, -8.51829156e-02, -6.67585644e-01,\n",
              "         7.72229377e-01, -8.65011492e-01, -1.48557333e-01, -5.44364655e-01,\n",
              "         8.11982624e-01, -1.05180357e+00, -1.84046858e+00,  3.36629908e-01,\n",
              "        -5.81355286e-01, -1.15445828e-01, -2.34988391e+00,  1.28794455e+00,\n",
              "         8.18354395e-01, -2.23698803e-02, -2.51365541e+00, -6.77470009e-01,\n",
              "         1.61463542e+00,  1.36539849e-01, -1.40076486e+00, -4.53498101e-01,\n",
              "         1.44123914e+00, -2.58689210e-01, -2.37724554e+00, -3.34273731e-02,\n",
              "        -9.95178415e-01, -1.71228509e+00, -6.08585025e-01, -1.96187000e-01,\n",
              "        -2.51343059e+00, -1.94809765e-01, -3.20278310e-01,  4.85214930e-01,\n",
              "        -5.52511355e-01, -2.09519334e-01,  3.15936671e-01,  9.15708841e-01,\n",
              "        -6.71728890e-01, -8.20807087e-02,  1.74558635e-01, -2.13946680e+00,\n",
              "         5.09124451e-01, -6.78995676e-01,  1.05215376e-01, -4.24219799e-01,\n",
              "         1.96965798e-01,  2.62027770e-01, -1.27538582e+00,  8.26595670e-02,\n",
              "         7.01990098e-01, -1.11410884e+00,  3.66743114e-01,  4.63625647e-03,\n",
              "         1.31626773e+00, -1.03086248e+00, -1.43018463e+00, -8.67955010e-01,\n",
              "        -1.03840047e+00,  3.62440415e-01,  2.88600640e-01,  1.03660082e-01,\n",
              "        -1.18214772e+00,  7.46697107e-01,  1.33035744e+00, -2.66819380e-01,\n",
              "         4.71997894e-02, -3.47841686e-01, -9.55884410e-01, -9.47744928e-01,\n",
              "        -8.64044199e-01, -1.27819769e+00,  9.41382645e-01,  7.31936990e-01,\n",
              "        -4.50735089e-01, -7.07564775e-01,  1.17907989e+00, -1.16054560e+00,\n",
              "        -2.09278884e-01, -2.03067330e+00, -1.27682339e+00, -7.56878152e-02,\n",
              "         8.26858075e-02, -1.36920240e-01,  7.81330014e-01,  2.00320126e+00,\n",
              "         3.84959173e-01, -4.41593287e-01,  6.31882589e-01, -1.59274029e+00,\n",
              "         1.42058341e-01, -3.01581969e-01, -1.32913967e+00,  1.52260724e+00,\n",
              "        -7.90073651e-01, -4.51371257e-02,  8.22966742e-01, -3.32112666e-01,\n",
              "        -1.62047715e+00,  5.74079810e-01, -7.47439155e-01,  1.69566384e+00,\n",
              "         8.48112193e-01,  7.10894988e-01, -7.38756152e-01,  3.63385587e-01,\n",
              "         1.76974878e+00, -2.80664808e-01, -4.26681032e-01, -2.56523162e+00,\n",
              "         1.90752476e-01,  7.32278422e-01, -1.07345551e+00, -8.59226760e-01,\n",
              "        -3.47881248e-01, -1.88843764e+00, -1.76871125e+00, -5.59098209e-01,\n",
              "        -1.02766895e+00, -6.00034555e-01, -4.69979145e-01,  1.57280563e+00,\n",
              "         1.22006583e+00, -1.49684305e+00,  8.42088504e-01, -1.83080647e+00,\n",
              "        -3.29630674e-01, -1.38819081e+00, -7.11400988e-01,  3.20060722e-01,\n",
              "        -5.49933155e-01,  5.31111388e-01,  2.45516999e-01,  1.20855926e+00,\n",
              "        -2.60136320e-01,  5.14019356e-01, -8.35707671e-01, -7.68896656e-01,\n",
              "        -6.15151412e-01, -5.86740599e-01, -1.68651149e+00, -2.99587703e-01,\n",
              "        -1.72449282e+00,  8.77565772e-01, -1.96782556e+00, -4.82457819e-01,\n",
              "        -9.52308700e-01, -1.42755903e+00,  4.50822676e-01,  2.33972610e-01,\n",
              "        -1.46784109e+00,  1.75391450e-03,  4.80543466e-01,  4.15822739e-01,\n",
              "        -1.75215804e+00,  1.48449847e-01,  2.37210922e-01,  7.48266817e-01,\n",
              "        -3.28558713e-01, -4.52180210e-01,  1.42193447e+00,  4.94249896e-01,\n",
              "        -1.95640309e-01, -8.12940861e-01,  6.76920764e-01, -4.67189618e-01,\n",
              "        -1.74964065e+00, -4.68603017e-01,  7.92105789e-01, -4.86218925e-01,\n",
              "        -2.57259324e+00, -5.57155944e-02,  2.13737671e+00,  5.68561950e-01,\n",
              "        -4.02547879e-02,  1.01272575e+00,  5.55093944e-01, -3.53228627e-01,\n",
              "        -1.09810714e-01,  2.83071211e-01,  6.81767912e-01, -1.99851029e+00,\n",
              "         4.20675846e-01, -4.88293739e-01,  7.88293663e-02,  3.87449345e-01,\n",
              "        -2.46122982e-01, -1.41151733e+00, -5.90520848e-01, -1.85393814e+00,\n",
              "         1.59285944e-01,  1.30276068e+00,  4.89872213e-01, -6.44665122e-01,\n",
              "        -1.28193539e-01, -8.91950467e-01, -2.42075277e-01, -9.02563990e-01,\n",
              "         3.04569438e-01, -1.03384047e+00,  1.40927890e+00,  8.20313785e-02,\n",
              "        -1.91314222e+00, -2.66524118e+00,  2.23294395e+00, -1.16724168e+00,\n",
              "        -8.66624823e-01, -1.21138069e+00,  1.10004338e+00,  5.44803370e-02,\n",
              "        -3.38150724e-01, -1.98480557e-01, -8.50699113e-01, -4.84931640e-02,\n",
              "        -5.63182078e-01, -1.24589905e+00,  6.71836399e-02, -6.89039644e-01,\n",
              "         4.54976282e-01, -5.74573308e-01, -3.27963494e-01,  4.63118923e-01,\n",
              "        -4.87295410e-01,  1.43501010e+00,  4.82176204e-01,  6.02972109e-01,\n",
              "         1.30477882e+00, -6.47252526e-01, -1.39342728e-01,  1.71619818e-01,\n",
              "         1.14270543e-01,  1.29557247e+00, -9.40855336e-01, -9.31465025e-01,\n",
              "         1.03468172e+00,  5.04011436e-01, -1.23027409e+00, -1.65842671e-01,\n",
              "         3.27595419e-01, -7.47946763e-01, -5.23370167e-01, -1.51723548e-01,\n",
              "        -4.36258070e-01,  3.50426362e-01, -2.83700251e+00, -5.22698949e-01,\n",
              "        -7.92566131e-01, -6.19400659e-02,  4.24494564e-01, -1.85907978e+00,\n",
              "        -1.41350745e+00,  9.07707923e-02,  3.04808358e-01, -1.17825376e-01,\n",
              "         1.69020729e+00, -3.51070941e-01, -1.51323227e+00,  1.50672541e-01,\n",
              "        -8.09006229e-02, -1.11932663e-01, -2.29463522e-01,  1.17921278e+00,\n",
              "        -1.54811821e+00, -1.88025795e+00, -1.43089848e+00, -1.08180319e+00,\n",
              "        -1.05223259e-01, -5.31929174e-02, -1.12441887e+00, -3.77955808e-01,\n",
              "        -3.96803214e-01, -4.73369159e-01,  5.18968035e-01, -4.24143210e-01,\n",
              "         3.67323837e-01, -1.37724000e+00, -2.65872022e-01,  5.94159988e-01,\n",
              "        -1.33056180e+00, -4.42042159e-01, -6.21671379e-02, -1.30214488e+00,\n",
              "         3.62226791e-01, -1.83912757e+00,  1.23795324e+00, -4.33315424e-01,\n",
              "        -7.96818063e-01, -1.61156949e+00, -5.28161669e-01,  7.60634030e-02,\n",
              "        -1.73854485e+00, -8.85657043e-01,  6.40042031e-01,  3.84195660e-02,\n",
              "        -1.21897345e+00, -1.40110271e+00,  9.55498151e-01, -9.45010462e-01,\n",
              "        -1.32331774e+00,  3.19035720e+00, -8.76796980e-01, -1.57033564e+00,\n",
              "        -4.50421734e-01, -5.23469784e-01,  1.09127986e+00, -1.52331297e+00,\n",
              "        -1.75929398e+00, -1.74782377e+00,  9.54400282e-01, -4.83323804e-01,\n",
              "        -1.44661959e+00, -1.02873034e-01, -2.51048016e-01, -1.24903012e+00,\n",
              "        -7.83298159e-02, -7.84859013e-01, -1.10442571e+00, -3.22381855e-01,\n",
              "        -9.30570663e-01, -1.16138111e+00,  8.28329046e-01, -1.42360713e+00,\n",
              "        -9.65255756e-01, -6.54763067e-01, -9.87399048e-01, -1.20288761e+00,\n",
              "         4.08642440e-01, -8.17649593e-01, -1.63465885e+00, -2.42469770e-01,\n",
              "        -1.56653548e+00, -7.35146494e-01,  8.38419349e-01, -7.02183464e-01,\n",
              "         1.05596723e-03, -3.11309077e-01, -1.50637128e+00,  4.63648904e-02,\n",
              "         7.21833366e-01, -1.74637910e+00,  3.52441502e-01,  1.61897995e-01,\n",
              "         7.68113617e-01, -1.68169048e+00, -8.87400704e-01,  1.73637184e-01,\n",
              "        -2.41998072e+00,  2.91549018e-01,  7.30135590e-01, -4.72855343e-01,\n",
              "        -5.23510572e-01, -9.71982997e-01, -2.87914887e+00, -1.29607489e+00,\n",
              "         1.63355284e+00,  7.70909090e-01, -1.01041448e+00,  1.40618973e+00,\n",
              "        -7.06264298e-01, -9.12211155e-01, -1.43673627e+00,  9.39677429e-01,\n",
              "         1.78657659e+00, -8.22379301e-01,  2.00147784e-01, -7.99211307e-01,\n",
              "        -1.67655271e+00, -6.36643133e-01, -2.14458491e-01, -1.57914455e+00,\n",
              "         5.72350776e-01, -3.56578610e-01, -1.11821780e+00, -1.05719742e-01,\n",
              "         4.82972216e-01, -8.21751124e-01,  1.94453177e-01, -5.40896944e-01,\n",
              "         1.40963020e+00,  4.07967567e-01, -7.38477438e-01, -2.49903091e+00,\n",
              "         6.97203575e-02, -1.25107195e+00, -1.58500317e+00,  1.12546170e+00,\n",
              "         3.12719562e+00, -9.99458073e-01, -8.99375537e-01, -1.38358245e+00,\n",
              "        -4.61220807e-01,  7.64475586e-01,  1.94539410e-01,  6.81381137e-01,\n",
              "        -1.13886414e+00,  2.80529651e-01,  1.03791774e+00, -9.62642211e-01,\n",
              "         1.63167652e-01, -6.14748688e-01, -9.34996681e-01,  1.47750071e+00,\n",
              "        -7.60579184e-01, -1.66040261e+00, -6.47975688e-01, -4.87827797e-01,\n",
              "         3.47802273e-01,  1.26816584e+00,  5.67854488e-01,  1.11959970e+00,\n",
              "        -4.15256427e-01,  2.47010751e-01, -8.77227304e-01, -1.90701335e+00,\n",
              "        -7.12583480e-01,  1.84112358e-01, -9.84248613e-01,  7.44949392e-01,\n",
              "         4.74415206e-01, -1.26579400e+00, -8.12295433e-01,  5.98690343e-01,\n",
              "        -1.08537790e+00, -8.10048220e-01, -7.76638137e-01,  5.10116154e-01,\n",
              "        -2.20892490e+00, -1.87597503e+00, -1.43650292e-01, -6.24477692e-01,\n",
              "         2.07939647e-03, -1.01055532e+00,  9.84382301e-01,  3.75565972e-01,\n",
              "        -1.92102820e+00,  4.51054698e-01,  1.47696566e+00,  1.20532659e+00,\n",
              "         2.95853619e-01, -1.57618648e+00, -1.49926805e-01, -9.53759539e-01,\n",
              "         1.48523887e+00,  2.41555819e-01, -5.76464054e-02,  1.75935758e-01,\n",
              "        -5.13731992e-01, -6.92134905e-01,  1.15445417e+00, -8.09094685e-01,\n",
              "        -2.15909912e+00, -6.14247928e-01,  4.72932274e-01,  4.47095580e-02,\n",
              "         1.38858321e+00, -1.66967579e+00,  9.95808470e-01, -7.03061927e-01,\n",
              "        -4.18046688e-01, -5.39220328e-01, -1.61345549e+00, -1.07231095e+00,\n",
              "         3.16748572e-01, -2.40328317e+00, -1.52485349e+00, -2.36790783e+00,\n",
              "         7.27605711e-01, -4.00208873e-02, -1.36271850e+00,  4.00884005e-01,\n",
              "         1.44200215e+00,  1.14538638e+00,  1.05693013e+00, -2.76140352e+00,\n",
              "        -1.15671112e-01, -1.04278578e+00, -1.80071849e-01, -8.50228714e-01,\n",
              "        -1.43290382e+00, -4.96319853e-01, -3.62530332e-01,  1.86573696e+00,\n",
              "        -2.14883831e+00, -9.01252381e-01,  7.04371707e-01,  7.57617121e-02,\n",
              "         6.03933429e-01,  7.74172091e-02,  3.71064129e-01, -3.68242056e-01,\n",
              "        -1.22456357e+00,  5.42095098e-01, -1.71711703e-01, -1.49790758e+00,\n",
              "         5.23762779e-01,  1.35060191e+00, -7.67690791e-01, -9.24789971e-01,\n",
              "        -1.82015068e+00,  8.91218428e-02,  1.35446094e+00, -1.51467324e+00,\n",
              "        -3.88649314e-01, -1.71589935e+00, -2.24434321e+00,  8.91492737e-02,\n",
              "         7.72706056e-01, -7.92597708e-01,  8.09660400e-01, -1.61026328e+00,\n",
              "        -1.10583823e+00,  9.39653763e-01, -3.27338185e-01, -6.45432587e-02,\n",
              "        -2.19739727e+00, -1.55193862e+00, -2.01920086e+00,  9.58371386e-01,\n",
              "        -1.52045345e+00,  6.95129613e-01, -7.53681910e-01,  5.08550557e-01,\n",
              "        -7.13798567e-01, -1.00658822e+00, -1.74361634e+00, -9.64886614e-01,\n",
              "        -4.24706621e-01,  5.69523434e-01, -4.74953279e-01,  1.50168218e+00,\n",
              "        -2.40534842e-01, -2.37203498e+00, -5.74648326e-01,  1.58134882e-01,\n",
              "        -1.11853507e+00,  1.86184026e-01, -3.39957879e-01, -2.35976930e+00,\n",
              "         4.19187173e-01, -1.91319648e-01, -1.81531740e+00, -4.14850434e-01,\n",
              "        -9.44156862e-01,  8.28134239e-01, -9.51576422e-01,  1.19937850e+00,\n",
              "        -2.28731155e-01, -8.33611584e-01,  5.54960035e-01,  1.82621190e-01]),\n",
              " 0.25894972961062984)"
            ]
          },
          "metadata": {
            "tags": []
          },
          "execution_count": 22
        }
      ]
    },
    {
      "cell_type": "code",
      "metadata": {
        "id": "xT6nYYdjka4K",
        "colab_type": "code",
        "colab": {
          "base_uri": "https://localhost:8080/",
          "height": 298
        },
        "outputId": "87247615-5e67-4ea0-c07c-eec484cfe7c8"
      },
      "source": [
        "# plot both together to compare\n",
        "fig, ax = plt.subplots(1,2)\n",
        "sns.distplot(original_data,ax=ax[0])\n",
        "ax[0].set_title(\"Original Data\")\n",
        "sns.distplot(normalized_data[0],ax=ax[1])\n",
        "ax[1].set_title(\"Normalized Data\")\n"
      ],
      "execution_count": 23,
      "outputs": [
        {
          "output_type": "execute_result",
          "data": {
            "text/plain": [
              "Text(0.5, 1.0, 'Normalized Data')"
            ]
          },
          "metadata": {
            "tags": []
          },
          "execution_count": 23
        },
        {
          "output_type": "display_data",
          "data": {
            "image/png": "[encoded data removed]",
            "text/plain": [
              "<Figure size 432x288 with 2 Axes>"
            ]
          },
          "metadata": {
            "tags": [],
            "needs_background": "light"
          }
        }
      ]
    },
    {
      "cell_type": "markdown",
      "metadata": {
        "id": "rJq2K0oBliik",
        "colab_type": "text"
      },
      "source": [
        "Notice that the shape of our data has changed. Before normalizing it was almost L-shaped. But after normalizing it looks more like the outline of a bell (hence \"bell curve\")."
      ]
    },
    {
      "cell_type": "code",
      "metadata": {
        "id": "SuE-kberk05G",
        "colab_type": "code",
        "colab": {}
      },
      "source": [
        ""
      ],
      "execution_count": null,
      "outputs": []
    }
  ]
}