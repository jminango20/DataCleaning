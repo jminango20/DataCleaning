{
  "nbformat": 4,
  "nbformat_minor": 0,
  "metadata": {
    "colab": {
      "name": "Inconsistent Data Entry .ipynb",
      "provenance": [],
      "authorship_tag": "ABX9TyOTbHe6hJ73hQW4EcTJCATv",
      "include_colab_link": true
    },
    "kernelspec": {
      "name": "python3",
      "display_name": "Python 3"
    }
  },
  "cells": [
    {
      "cell_type": "markdown",
      "metadata": {
        "id": "view-in-github",
        "colab_type": "text"
      },
      "source": [
        "<a href=\"https://colab.research.google.com/github/jminango20/DataCleaning/blob/master/Inconsistent_Data_Entry_.ipynb\" target=\"_parent\"><img src=\"https://colab.research.google.com/assets/colab-badge.svg\" alt=\"Open In Colab\"/></a>"
      ]
    },
    {
      "cell_type": "markdown",
      "metadata": {
        "id": "Zm4vRNn2DLa_",
        "colab_type": "text"
      },
      "source": [
        "Efficiently fix typos in your data"
      ]
    },
    {
      "cell_type": "code",
      "metadata": {
        "id": "-qQGtgK8DQg0",
        "colab_type": "code",
        "colab": {
          "base_uri": "https://localhost:8080/",
          "height": 121
        },
        "outputId": "03b5a653-f234-42bf-cb00-311d736a13a0"
      },
      "source": [
        "#Mount Drive\n",
        "from google.colab import drive\n",
        "drive.mount('/content/drive')"
      ],
      "execution_count": 2,
      "outputs": [
        {
          "output_type": "stream",
          "text": [
            "Go to this URL in a browser: https://accounts.google.com/o/oauth2/auth?client_id=947318989803-6bn6qk8qdgf4n4g3pfee6491hc0brc4i.apps.googleusercontent.com&redirect_uri=urn%3aietf%3awg%3aoauth%3a2.0%3aoob&scope=email%20https%3a%2f%2fwww.googleapis.com%2fauth%2fdocs.test%20https%3a%2f%2fwww.googleapis.com%2fauth%2fdrive%20https%3a%2f%2fwww.googleapis.com%2fauth%2fdrive.photos.readonly%20https%3a%2f%2fwww.googleapis.com%2fauth%2fpeopleapi.readonly&response_type=code\n",
            "\n",
            "Enter your authorization code:\n",
            "··········\n",
            "Mounted at /content/drive\n"
          ],
          "name": "stdout"
        }
      ]
    },
    {
      "cell_type": "code",
      "metadata": {
        "id": "i3LVS_61DhBZ",
        "colab_type": "code",
        "colab": {}
      },
      "source": [
        "#Libraries\n",
        "import pandas as pd\n",
        "import numpy as np"
      ],
      "execution_count": 3,
      "outputs": []
    },
    {
      "cell_type": "code",
      "metadata": {
        "id": "D3W4fKD0Dy4r",
        "colab_type": "code",
        "colab": {
          "base_uri": "https://localhost:8080/",
          "height": 313
        },
        "outputId": "2fe73d12-9ece-4474-887c-0be2e74666e6"
      },
      "source": [
        "professores = pd.read_csv('/content/drive/My Drive/Colab Notebooks/DataCleaning/datasets_819513_1402182_pakistan_intellectual_capital.csv')\n",
        "professores.head()"
      ],
      "execution_count": 33,
      "outputs": [
        {
          "output_type": "execute_result",
          "data": {
            "text/html": [
              "<div>\n",
              "<style scoped>\n",
              "    .dataframe tbody tr th:only-of-type {\n",
              "        vertical-align: middle;\n",
              "    }\n",
              "\n",
              "    .dataframe tbody tr th {\n",
              "        vertical-align: top;\n",
              "    }\n",
              "\n",
              "    .dataframe thead th {\n",
              "        text-align: right;\n",
              "    }\n",
              "</style>\n",
              "<table border=\"1\" class=\"dataframe\">\n",
              "  <thead>\n",
              "    <tr style=\"text-align: right;\">\n",
              "      <th></th>\n",
              "      <th>Unnamed: 0</th>\n",
              "      <th>S#</th>\n",
              "      <th>Teacher Name</th>\n",
              "      <th>University Currently Teaching</th>\n",
              "      <th>Department</th>\n",
              "      <th>Province University Located</th>\n",
              "      <th>Designation</th>\n",
              "      <th>Terminal Degree</th>\n",
              "      <th>Graduated from</th>\n",
              "      <th>Country</th>\n",
              "      <th>Year</th>\n",
              "      <th>Area of Specialization/Research Interests</th>\n",
              "      <th>Other Information</th>\n",
              "    </tr>\n",
              "  </thead>\n",
              "  <tbody>\n",
              "    <tr>\n",
              "      <th>0</th>\n",
              "      <td>2</td>\n",
              "      <td>3</td>\n",
              "      <td>Dr. Abdul Basit</td>\n",
              "      <td>University of Balochistan</td>\n",
              "      <td>Computer Science &amp; IT</td>\n",
              "      <td>Balochistan</td>\n",
              "      <td>Assistant Professor</td>\n",
              "      <td>PhD</td>\n",
              "      <td>Asian Institute of Technology</td>\n",
              "      <td>Thailand</td>\n",
              "      <td>NaN</td>\n",
              "      <td>Software Engineering &amp; DBMS</td>\n",
              "      <td>NaN</td>\n",
              "    </tr>\n",
              "    <tr>\n",
              "      <th>1</th>\n",
              "      <td>4</td>\n",
              "      <td>5</td>\n",
              "      <td>Dr. Waheed Noor</td>\n",
              "      <td>University of Balochistan</td>\n",
              "      <td>Computer Science &amp; IT</td>\n",
              "      <td>Balochistan</td>\n",
              "      <td>Assistant Professor</td>\n",
              "      <td>PhD</td>\n",
              "      <td>Asian Institute of Technology</td>\n",
              "      <td>Thailand</td>\n",
              "      <td>NaN</td>\n",
              "      <td>DBMS</td>\n",
              "      <td>NaN</td>\n",
              "    </tr>\n",
              "    <tr>\n",
              "      <th>2</th>\n",
              "      <td>5</td>\n",
              "      <td>6</td>\n",
              "      <td>Dr. Junaid Baber</td>\n",
              "      <td>University of Balochistan</td>\n",
              "      <td>Computer Science &amp; IT</td>\n",
              "      <td>Balochistan</td>\n",
              "      <td>Assistant Professor</td>\n",
              "      <td>PhD</td>\n",
              "      <td>Asian Institute of Technology</td>\n",
              "      <td>Thailand</td>\n",
              "      <td>NaN</td>\n",
              "      <td>Information processing, Multimedia mining</td>\n",
              "      <td>NaN</td>\n",
              "    </tr>\n",
              "    <tr>\n",
              "      <th>3</th>\n",
              "      <td>6</td>\n",
              "      <td>7</td>\n",
              "      <td>Dr. Maheen Bakhtyar</td>\n",
              "      <td>University of Balochistan</td>\n",
              "      <td>Computer Science &amp; IT</td>\n",
              "      <td>Balochistan</td>\n",
              "      <td>Assistant Professor</td>\n",
              "      <td>PhD</td>\n",
              "      <td>Asian Institute of Technology</td>\n",
              "      <td>Thailand</td>\n",
              "      <td>NaN</td>\n",
              "      <td>NLP, Information Retrieval, Question Answering...</td>\n",
              "      <td>NaN</td>\n",
              "    </tr>\n",
              "    <tr>\n",
              "      <th>4</th>\n",
              "      <td>24</td>\n",
              "      <td>25</td>\n",
              "      <td>Samina Azim</td>\n",
              "      <td>Sardar Bahadur Khan Women's University</td>\n",
              "      <td>Computer Science</td>\n",
              "      <td>Balochistan</td>\n",
              "      <td>Lecturer</td>\n",
              "      <td>BS</td>\n",
              "      <td>Balochistan University of Information Technolo...</td>\n",
              "      <td>Pakistan</td>\n",
              "      <td>2005.0</td>\n",
              "      <td>VLSI Electronics DLD Database</td>\n",
              "      <td>NaN</td>\n",
              "    </tr>\n",
              "  </tbody>\n",
              "</table>\n",
              "</div>"
            ],
            "text/plain": [
              "   Unnamed: 0  ...  Other Information\n",
              "0           2  ...                NaN\n",
              "1           4  ...                NaN\n",
              "2           5  ...                NaN\n",
              "3           6  ...                NaN\n",
              "4          24  ...                NaN\n",
              "\n",
              "[5 rows x 13 columns]"
            ]
          },
          "metadata": {
            "tags": []
          },
          "execution_count": 33
        }
      ]
    },
    {
      "cell_type": "markdown",
      "metadata": {
        "id": "iW1u1TXcD_xZ",
        "colab_type": "text"
      },
      "source": [
        "Say we're interested in cleaning up the \"Country\" column to make sure there's no data entry inconsistencies in it. We could go through and check each row by hand, of course, and hand-correct inconsistencies when we find them. There's a more efficient way to do this, though!"
      ]
    },
    {
      "cell_type": "code",
      "metadata": {
        "id": "kHCbFlogD5PC",
        "colab_type": "code",
        "colab": {
          "base_uri": "https://localhost:8080/",
          "height": 118
        },
        "outputId": "61340f4e-80b3-4dce-dd1f-4e57eaf23c0e"
      },
      "source": [
        "# get all the unique values in the 'Country' column\n",
        "countries = professores['Country'].unique()\n",
        "\n",
        "# sort them alphabetically and then take a closer look\n",
        "countries.sort()\n",
        "print(countries)"
      ],
      "execution_count": 34,
      "outputs": [
        {
          "output_type": "stream",
          "text": [
            "[' Germany' ' New Zealand' ' Sweden' ' USA' 'Australia' 'Austria' 'Canada'\n",
            " 'China' 'Finland' 'France' 'Greece' 'HongKong' 'Ireland' 'Italy' 'Japan'\n",
            " 'Macau' 'Malaysia' 'Mauritius' 'Netherland' 'New Zealand' 'Norway'\n",
            " 'Pakistan' 'Portugal' 'Russian Federation' 'Saudi Arabia' 'Scotland'\n",
            " 'Singapore' 'South Korea' 'SouthKorea' 'Spain' 'Sweden' 'Thailand'\n",
            " 'Turkey' 'UK' 'USA' 'USofA' 'Urbana' 'germany']\n"
          ],
          "name": "stdout"
        }
      ]
    },
    {
      "cell_type": "markdown",
      "metadata": {
        "id": "-BlLVSKrEaFr",
        "colab_type": "text"
      },
      "source": [
        "Just looking at this, I can see some problems due to inconsistent data entry: ' Germany', and 'germany', for example, or ' New Zealand' and 'New Zealand'.\n",
        "\n",
        "The first thing I'm going to do is make everything lower case (I can change it back at the end if I like) and remove any white spaces at the beginning and end of cells. Inconsistencies in capitalizations and trailing white spaces are very common in text data and you can fix a good 80% of your text data entry inconsistencies by doing this."
      ]
    },
    {
      "cell_type": "code",
      "metadata": {
        "id": "xBtG9lXOEGtj",
        "colab_type": "code",
        "colab": {
          "base_uri": "https://localhost:8080/",
          "height": 134
        },
        "outputId": "396a2144-085e-47ff-b25a-7e6137dc79be"
      },
      "source": [
        "# convert to lower case\n",
        "professores['Country'] = professores['Country'].str.lower()\n",
        "professores['Country'].unique()"
      ],
      "execution_count": 35,
      "outputs": [
        {
          "output_type": "execute_result",
          "data": {
            "text/plain": [
              "array(['thailand', 'pakistan', 'germany', 'austria', 'australia', 'uk',\n",
              "       'china', 'france', 'usofa', 'southkorea', 'malaysia', 'sweden',\n",
              "       'italy', 'canada', 'norway', 'ireland', 'new zealand', 'urbana',\n",
              "       'portugal', 'russian federation', 'usa', 'finland', ' usa',\n",
              "       'netherland', ' germany', ' sweden', ' new zealand', 'greece',\n",
              "       'turkey', 'south korea', 'macau', 'singapore', 'spain', 'japan',\n",
              "       'hongkong', 'saudi arabia', 'mauritius', 'scotland'], dtype=object)"
            ]
          },
          "metadata": {
            "tags": []
          },
          "execution_count": 35
        }
      ]
    },
    {
      "cell_type": "code",
      "metadata": {
        "id": "Q6GojOEqEuVW",
        "colab_type": "code",
        "colab": {
          "base_uri": "https://localhost:8080/",
          "height": 134
        },
        "outputId": "2d9276eb-ec4e-45ab-ed46-3c2723d732bb"
      },
      "source": [
        "# remove trailing white spaces\n",
        "professores['Country'] = professores['Country'].str.strip()\n",
        "professores['Country'].unique()"
      ],
      "execution_count": 36,
      "outputs": [
        {
          "output_type": "execute_result",
          "data": {
            "text/plain": [
              "array(['thailand', 'pakistan', 'germany', 'austria', 'australia', 'uk',\n",
              "       'china', 'france', 'usofa', 'southkorea', 'malaysia', 'sweden',\n",
              "       'italy', 'canada', 'norway', 'ireland', 'new zealand', 'urbana',\n",
              "       'portugal', 'russian federation', 'usa', 'finland', 'netherland',\n",
              "       'greece', 'turkey', 'south korea', 'macau', 'singapore', 'spain',\n",
              "       'japan', 'hongkong', 'saudi arabia', 'mauritius', 'scotland'],\n",
              "      dtype=object)"
            ]
          },
          "metadata": {
            "tags": []
          },
          "execution_count": 36
        }
      ]
    },
    {
      "cell_type": "markdown",
      "metadata": {
        "id": "5szzq3w6FJdt",
        "colab_type": "text"
      },
      "source": [
        "## Use fuzzy matching to correct inconsistent data entry\n",
        "\n",
        "Alright, let's take another look at the 'Country' column and see if there's any more data cleaning we need to do."
      ]
    },
    {
      "cell_type": "code",
      "metadata": {
        "id": "VDcu5t_NFEc4",
        "colab_type": "code",
        "colab": {
          "base_uri": "https://localhost:8080/",
          "height": 118
        },
        "outputId": "4b366d5a-8ed7-42a8-a568-3ee1a3b3241a"
      },
      "source": [
        "# get all the unique values in the 'Country' column\n",
        "countries = professores['Country'].unique()\n",
        "\n",
        "# sort them alphabetically and then take a closer look\n",
        "countries.sort()\n",
        "print(countries)"
      ],
      "execution_count": 37,
      "outputs": [
        {
          "output_type": "stream",
          "text": [
            "['australia' 'austria' 'canada' 'china' 'finland' 'france' 'germany'\n",
            " 'greece' 'hongkong' 'ireland' 'italy' 'japan' 'macau' 'malaysia'\n",
            " 'mauritius' 'netherland' 'new zealand' 'norway' 'pakistan' 'portugal'\n",
            " 'russian federation' 'saudi arabia' 'scotland' 'singapore' 'south korea'\n",
            " 'southkorea' 'spain' 'sweden' 'thailand' 'turkey' 'uk' 'urbana' 'usa'\n",
            " 'usofa']\n"
          ],
          "name": "stdout"
        }
      ]
    },
    {
      "cell_type": "markdown",
      "metadata": {
        "id": "wgiiG4mjFW9X",
        "colab_type": "text"
      },
      "source": [
        "It does look like there is another inconsistency: 'southkorea' and 'south korea' should be the same.\n",
        "\n",
        "We're going to use the fuzzywuzzy package to help identify which strings are closest to each other."
      ]
    },
    {
      "cell_type": "markdown",
      "metadata": {
        "id": "TrGLIh8eFb3f",
        "colab_type": "text"
      },
      "source": [
        "**Fuzzy matching:** The process of automatically finding text strings that are very similar to the target string. In general, a string is considered \"closer\" to another one the fewer characters you'd need to change if you were transforming one string into another. So \"apple\" and \"snapple\" are two changes away from each other (add \"s\" and \"n\") while \"in\" and \"on\" and one change away (rplace \"i\" with \"o\"). You won't always be able to rely on fuzzy matching 100%, but it will usually end up saving you at least a little time.\n",
        "\n",
        "**Fuzzywuzzy** returns a ratio given two strings. The closer the ratio is to 100, the smaller the edit distance between the two strings. Here, we're going to get the ten strings from our list of cities that have the closest distance to \"d.i khan\"."
      ]
    },
    {
      "cell_type": "code",
      "metadata": {
        "id": "p2OJPVj8F44b",
        "colab_type": "code",
        "colab": {
          "base_uri": "https://localhost:8080/",
          "height": 34
        },
        "outputId": "250d3570-38cc-4db2-936f-547710aa3e77"
      },
      "source": [
        "!pip install fuzzywuzzy"
      ],
      "execution_count": 38,
      "outputs": [
        {
          "output_type": "stream",
          "text": [
            "Requirement already satisfied: fuzzywuzzy in /usr/local/lib/python3.6/dist-packages (0.18.0)\n"
          ],
          "name": "stdout"
        }
      ]
    },
    {
      "cell_type": "code",
      "metadata": {
        "id": "qlf__10dFu-3",
        "colab_type": "code",
        "colab": {}
      },
      "source": [
        "# helpful modules\n",
        "import fuzzywuzzy\n",
        "from fuzzywuzzy import process\n",
        "import chardet"
      ],
      "execution_count": 39,
      "outputs": []
    },
    {
      "cell_type": "code",
      "metadata": {
        "id": "0f17u1bYFSwG",
        "colab_type": "code",
        "colab": {}
      },
      "source": [
        "# get the top 10 closest matches to \"south korea\"\n",
        "matches = fuzzywuzzy.process.extract(query=\"south korea\",choices=countries,scorer=fuzzywuzzy.fuzz.token_sort_ratio, limit=10)"
      ],
      "execution_count": 40,
      "outputs": []
    },
    {
      "cell_type": "code",
      "metadata": {
        "id": "AOYa8q-UGwZd",
        "colab_type": "code",
        "colab": {
          "base_uri": "https://localhost:8080/",
          "height": 54
        },
        "outputId": "6624ec59-ccf6-4e4c-eb4b-c7d84a7ed9c6"
      },
      "source": [
        "# take a look at them\n",
        "print(matches)"
      ],
      "execution_count": 41,
      "outputs": [
        {
          "output_type": "stream",
          "text": [
            "[('south korea', 100), ('southkorea', 48), ('saudi arabia', 43), ('norway', 35), ('ireland', 33), ('portugal', 32), ('singapore', 30), ('netherland', 29), ('macau', 25), ('usofa', 25)]\n"
          ],
          "name": "stdout"
        }
      ]
    },
    {
      "cell_type": "markdown",
      "metadata": {
        "id": "_1CKgZ5eG5wg",
        "colab_type": "text"
      },
      "source": [
        "We can see that two of the items in the cities are very close to \"south korea\": \"south korea\" and \"southkorea\". Let's replace all rows in our \"Country\" column that have a ratio of > 47 with \"south korea\"."
      ]
    },
    {
      "cell_type": "markdown",
      "metadata": {
        "id": "49mVqAn8G_RC",
        "colab_type": "text"
      },
      "source": [
        "**To do this, I'm going to write a function.**"
      ]
    },
    {
      "cell_type": "code",
      "metadata": {
        "id": "9LF3POH6G0PO",
        "colab_type": "code",
        "colab": {}
      },
      "source": [
        "# function to replace rows in the provided column of the provided dataframe\n",
        "# that match the provided string above the provided ratio with the provided string\n",
        "def replace_matches_in_column(df, column, string_to_match, min_ratio = 47):\n",
        "    # get a list of unique strings\n",
        "    strings = df[column].unique()\n",
        "    \n",
        "    # get the top 10 closest matches to our input string\n",
        "    matches = fuzzywuzzy.process.extract(string_to_match, strings, \n",
        "                                         limit=10, scorer=fuzzywuzzy.fuzz.token_sort_ratio)\n",
        "\n",
        "    # only get matches with a ratio > 90\n",
        "    close_matches = [matches[0] for matches in matches if matches[1] >= min_ratio]\n",
        "\n",
        "    # get the rows of all the close matches in our dataframe\n",
        "    rows_with_matches = df[column].isin(close_matches)\n",
        "\n",
        "    # replace all rows with close matches with the input matches \n",
        "    df.loc[rows_with_matches, column] = string_to_match\n",
        "    \n",
        "    # let us know the function's done\n",
        "    print(\"All done!\")"
      ],
      "execution_count": 42,
      "outputs": []
    },
    {
      "cell_type": "code",
      "metadata": {
        "id": "HCjVW18pHDTS",
        "colab_type": "code",
        "colab": {
          "base_uri": "https://localhost:8080/",
          "height": 34
        },
        "outputId": "29337759-058b-4341-9fa1-65e1479e207e"
      },
      "source": [
        "# use the function we just wrote to replace close matches to \"south korea\" with \"south korea\"\n",
        "replace_matches_in_column(df=professores,column='Country',string_to_match='south korea')"
      ],
      "execution_count": 43,
      "outputs": [
        {
          "output_type": "stream",
          "text": [
            "All done!\n"
          ],
          "name": "stdout"
        }
      ]
    },
    {
      "cell_type": "code",
      "metadata": {
        "id": "D-vbD_e6HV4R",
        "colab_type": "code",
        "colab": {
          "base_uri": "https://localhost:8080/",
          "height": 118
        },
        "outputId": "b0fa528b-b69a-4d6f-839a-615bd0fb6d9d"
      },
      "source": [
        "professores['Country'].unique()"
      ],
      "execution_count": 44,
      "outputs": [
        {
          "output_type": "execute_result",
          "data": {
            "text/plain": [
              "array(['thailand', 'pakistan', 'germany', 'austria', 'australia', 'uk',\n",
              "       'china', 'france', 'usofa', 'south korea', 'malaysia', 'sweden',\n",
              "       'italy', 'canada', 'norway', 'ireland', 'new zealand', 'urbana',\n",
              "       'portugal', 'russian federation', 'usa', 'finland', 'netherland',\n",
              "       'greece', 'turkey', 'macau', 'singapore', 'spain', 'japan',\n",
              "       'hongkong', 'saudi arabia', 'mauritius', 'scotland'], dtype=object)"
            ]
          },
          "metadata": {
            "tags": []
          },
          "execution_count": 44
        }
      ]
    },
    {
      "cell_type": "markdown",
      "metadata": {
        "id": "DUZhVrXEIWvQ",
        "colab_type": "text"
      },
      "source": [
        "# 1) Examine another column\n",
        "\n",
        "Write code below to take a look at all the unique values in the \"Graduated from\" column."
      ]
    },
    {
      "cell_type": "code",
      "metadata": {
        "id": "H2U7NCkfHrJW",
        "colab_type": "code",
        "colab": {
          "base_uri": "https://localhost:8080/",
          "height": 1000
        },
        "outputId": "ad2099fd-1cb0-448c-8c90-bb63a95359a8"
      },
      "source": [
        "graduated_form = professores['Graduated from'].unique()\n",
        "print(graduated_form)"
      ],
      "execution_count": 45,
      "outputs": [
        {
          "output_type": "stream",
          "text": [
            "['Asian Institute of Technology'\n",
            " 'Balochistan University of Information Technology, Engineering and Management Sciences'\n",
            " 'University of Balochistan' \"Sardar Bahadur Khan Women's University\"\n",
            " 'SRH Hochschule Heidelberg'\n",
            " 'Institute of Business Administration,Karachi' 'DUET,Karachi'\n",
            " 'University of Turbat' 'University of Vienna' 'Monash University'\n",
            " 'University of Stirling' 'Chinese Academy of Sciences'\n",
            " 'University of Innsbruck' 'Vienna University of Technology'\n",
            " 'University of Paris-Est' 'The University of Cambridge'\n",
            " 'Harbin Institute of Technology' 'University of Nice, Sophia Antipolis'\n",
            " 'The University of York' 'Galilée - Université Paris 13'\n",
            " 'University of Bedfordshire' 'North Dakota State University'\n",
            " 'Kyungpook National University' 'The University of Manchester'\n",
            " 'National University of Sciences and Technology'\n",
            " 'FAST– National University of Computer and Emerging Sciences'\n",
            " 'Capital University of Science & Technology' 'Gomal University'\n",
            " 'University of Malaya' 'KTH Royal Institute of Technology'\n",
            " 'University of Technology' 'COMSATS Institute of Information Technology'\n",
            " 'Government College University' 'Mohammad Ali Jinnah University'\n",
            " 'Shaheed Zulfikar Ali Bhutto Institute of Science and Technology'\n",
            " 'Blekinge Institute of Technology' 'University of Grenoble'\n",
            " 'Politecnico di Torino' '\\xa0University of Missouri, KC'\n",
            " 'University of Bonn' 'University of Paris' 'The University of Leeds'\n",
            " '\\xa0University of Windsor'\n",
            " '\\xa0National University of Sciences and Technology-NIIT'\n",
            " 'University of Trento' 'Stockholm University'\n",
            " 'University of New South Wales, Sydney' 'Kingston University London'\n",
            " 'Griffith University' 'University of Salford' 'Loughborough University'\n",
            " 'International Islamic University,Islamabad'\n",
            " 'University of Central Missouri' 'Riphah International University'\n",
            " 'University of BedfordShire' 'University of Illinois'\n",
            " 'University Of Oslo' 'Nancy 2 University' 'University of Limerick'\n",
            " 'Ghulam Ishaq Khan Institute of Science and Technology'\n",
            " 'University Of Waterloo' 'University of Stuttgart'\n",
            " 'Liverpool John Moores University' 'University Of Caen'\n",
            " 'Paris Tech University of Eurecom' 'University Of Salford'\n",
            " 'Lahore University of Management Sciences'\n",
            " 'Dresden University Of Technology, Dresden\\xa0'\n",
            " 'COMSATS Institute of Information Technology,Vehari'\n",
            " 'COMSATS Institute of Information Technology,Wah Cantt' 'TU Berlin'\n",
            " 'FAST– National University of Computer and Emerging Sciences,Islamabad'\n",
            " 'Tsinghua University' 'The University of Auckland' 'IQRA University'\n",
            " 'Universiti Teknologi PETRONAS'\n",
            " 'COMSATS Institute of Information Technology,Islamabad'\n",
            " 'Razak School of Engineering and Advanced Technology, Universiti Teknologi Malaysia (UTM)'\n",
            " 'National University of Modern Languages'\n",
            " 'University of Engineering and Technology'\n",
            " 'University Institute of Information Technology'\n",
            " 'University of Arid Agriculture' 'Quaid-i-Azam University'\n",
            " 'Queen Mary University of London'\n",
            " 'Pakistan Institute of Engineering and Applied Sciences'\n",
            " 'Pohang University of Science and Technology' 'Uppsala University'\n",
            " 'Kyung Hee University' 'University of Liverpool'\n",
            " 'University of Sunderland' 'Mid Sweden University'\n",
            " 'Bahria University,Islamabad' 'Chosun University' 'University of Sussex'\n",
            " 'Paris Descartes University' 'University of Leicester'\n",
            " 'University of Porto' 'University of Manchester'\n",
            " 'Université Henri Poincaré, Nancy 1,' 'Bahria University'\n",
            " 'Centre for Advanced Studies in Engineering'\n",
            " 'Norwegian University of Science and Technology (NTNU),'\n",
            " 'The Islamia University of Bahawalpur ' 'Universiti Technologi'\n",
            " 'California State University' 'University of Genova'\n",
            " 'University of Engineering and Technology,Taxila'\n",
            " 'University of\\xa0Liverpool John Moores University' 'Guildford'\n",
            " 'University of Bradford' 'Graz University of Technology'\n",
            " 'Huazhong University of Science and Technology (HUST), Wuhan'\n",
            " 'University of Konstanz'\n",
            " 'National University of Modern Languages,Islamabad'\n",
            " 'FAST– National University of Computer and Emerging Sciences,Lahore'\n",
            " 'Gwangju Institute of Science and Technology' 'University of Birmingham'\n",
            " 'Manchester University' 'Beijing Institute of Technology'\n",
            " 'University of Paisley'\n",
            " 'Univ of Porto/Univ of Aveiro Portugal/Uni of Minho'\n",
            " 'University of Peshawar' 'Universität Salzburg'\n",
            " 'Colorado State University' 'University of Virginia'\n",
            " 'University of Orleans' 'Zhejiang University' 'University of Leeds'\n",
            " 'Foundation University' 'Barani Institute of Information Technology'\n",
            " 'Abasyn University' 'Pir Mehr Ali Shah Arid Agriculture University'\n",
            " 'Preston' 'University of Bergen' 'Universtiy of Lahore'\n",
            " 'HITEC University,Taxila' 'Allama Iqbal Open University'\n",
            " 'University of Wales,Aberystwyth' '\\xa0University of Bonn'\n",
            " '\\xa0Hongik University'\n",
            " 'Skolkovo Institute of Science and Technology,\\xa0'\n",
            " 'Agricultural University Peshawar' 'National Textile University'\n",
            " 'FAST– National University of Computer and Emerging Sciences,Chiniot-Faisalabad'\n",
            " 'FAST– National University of Computer and Emerging Sciences,Peshawar'\n",
            " '\\xa0Boston University' 'Brunel University'\n",
            " 'George Washington University' 'University of the Punjab'\n",
            " '\\xa0University of Bedfordshire' 'University Of Southern California'\n",
            " 'Beihang University' 'Institute of Business Administration'\n",
            " 'Abdus Salam School of Mathematical Sciences,GC University'\n",
            " 'Linköping University'\n",
            " 'National College of Business Administration and Economics'\n",
            " 'Åbo Akademi University,' 'University of Central Punjab'\n",
            " 'University of Ulm' 'University of Agriculture'\n",
            " 'University of Notre Dame Indiana\\xa0'\n",
            " 'Punjab University College of Information Technology'\n",
            " 'Ilmenau University of Technology' ' Iowa State University'\n",
            " ' University of Innsbruck' 'Vrije University, Amsterdam'\n",
            " ' Columbia University' 'University of Freiburg'\n",
            " ' Delft University of Technology'\n",
            " ' University of Texas at Arlington (UTA)' ' University of Turin'\n",
            " ' University of Central Florida' 'Saarland University'\n",
            " 'University of Central Florida' 'Oxford Brookes University'\n",
            " 'Information Technology University (ITU)' 'University of Canterbury'\n",
            " 'University of Patras' 'Middle East Technical University'\n",
            " 'University of Bristol' 'University of Southern California'\n",
            " 'Northeastern University,Boston' 'Purdue University'\n",
            " 'University of Plymouth' 'University of South Australia'\n",
            " 'Stanford University' 'Chalmers University of Technology'\n",
            " 'Massachusetts Institute of Technology' 'Sapienza University of Rome'\n",
            " 'Eindhoven University of Technology (TU/e)'\n",
            " 'United Nations University International Institute for Software Technology (UNU-IIST)'\n",
            " 'Georgetown University,DC' 'RWTH Aachen University' 'Columbia University'\n",
            " 'Rutgers State University of New Jersey, NJ' 'University of Florida'\n",
            " 'Technical University of Braunschweig'\n",
            " 'Carnegie Mellon University, Pittsburgh' 'The Ohio State University'\n",
            " 'National University of Singapore' 'University of British Columbia'\n",
            " 'University of Pittsburgh' 'The State University of New Jersey'\n",
            " 'The University of Texas at Austin'\n",
            " 'Imperial College, University of London' 'University of Colorado\\xa0'\n",
            " 'University of Bath' 'Tilburg University'\n",
            " 'Pompeu Fabra University Barcelona'\n",
            " 'University of Management and Technology'\n",
            " 'COMSATS Institute of Information Technology,Lahore'\n",
            " 'University of Agriculture, Faisalabad\\xa0'\n",
            " 'University of Engineering & Technology'\n",
            " 'University of Agriculture, Faisalabad'\n",
            " 'Fatima Jinnah Women University, Rawalpindi'\n",
            " 'Kohat University of Science & Technology, Kohat'\n",
            " 'Virtual University of Pakistan' 'Bahauddin Zakariya University'\n",
            " 'University of the Punjab,Gujranwala'\n",
            " 'Lahore College for Women University' 'Superior University, Lahore'\n",
            " 'Shaheed Zulfikar Ali Bhutto Institute of Science and Technology,Islamabad'\n",
            " 'University of South Florida' 'Politecnico di Milano'\n",
            " 'Abdul Wali Khan University, Mardan' 'University of Lahore'\n",
            " 'Minhaj University Lahore' 'Lahore Leads University'\n",
            " 'Middlesex University' 'Beijing Institute of Technology Beijing'\n",
            " 'Beaconhouse National University' 'Hamdard University' 'University Paris'\n",
            " 'Sindh University' 'NED University of Engineering And Technology'\n",
            " 'Staffordshire University' 'DePaul University, Chicago'\n",
            " 'University of Kent' 'Mehran University of Engineering & Technology'\n",
            " 'Quaid-e-Awam University of Engineering, Science & Technology'\n",
            " 'Shah Abdul Latif University, Khairpur' 'Sindh Agriculture University'\n",
            " 'Swansea' 'University of Shanghai for Science and Technology'\n",
            " 'Griffith University,Nathan Campus' 'University of Essex'\n",
            " 'Xiamen university' 'Wayne State University'\n",
            " 'The Queens University of Belfast' 'Sungkyunkwan University'\n",
            " 'Nanyang Tech University' \"Universite d'Evry Val d'Essonne\"\n",
            " 'Sir Syed University of Engineering and Technology'\n",
            " 'New York Institute of Technology' 'Fedral Urdu University'\n",
            " 'ISRA University' 'University of Karachi' 'South Asian University'\n",
            " 'Capital University of Science and Technology'\n",
            " 'University of Manchester Institute of Science and Technology'\n",
            " 'The University of Birmingham'\n",
            " 'Max Planck Institute for Computer Science' 'George Mason University'\n",
            " 'University of Southampton' 'Temple University' 'University of Bayreuth'\n",
            " 'Muroran Institute of Technology,Hokkaido' 'University of Bologna'\n",
            " 'International Islamic University'\n",
            " 'PAF-Karachi Institute of Economics and Technology'\n",
            " 'Institute of Business Administration,Sukkur' 'Myongji University'\n",
            " 'State University of New York System' 'SSindh Agriculture University'\n",
            " 'London University' 'Universiti Putra Malaysia Putra'\n",
            " 'University of Rome Tor Vergata' 'University of Mississippi\\xa0'\n",
            " 'University of Wales' 'University of Northampton'\n",
            " 'University of Abertay Dundee'\n",
            " 'Biztek Institute Of Business & Technology,Karachi'\n",
            " 'University of Surrey' 'Jinnah University for Women'\n",
            " '\\xa0Nanyang Technological University' 'Tokyo Institute of Technology'\n",
            " 'NCSU' 'Usman Institute of Technology' 'Hanyang University, Ansan' 'BUKC'\n",
            " 'Universtiy of Karachi' 'Pace University, New York' 'INSA de Lyon, Rhone'\n",
            " 'University of Dundee' 'Illinois Institute of Technology'\n",
            " 'City University of Science and Technology'\n",
            " 'Usman Institute of Technology (Hamdard University)'\n",
            " 'University of Malaga' 'Manchester Metropolitan University'\n",
            " 'Kyushu University,Fukuoka'\n",
            " 'King Abdullah University of Science and Technology'\n",
            " 'INRIA Saclay Ile-de-France' 'Université de la Rochelle'\n",
            " 'University of South Brittany' 'Aston University, Birmingham'\n",
            " 'University of Agriculture Faisalabad' 'Hamburg University of Technology'\n",
            " 'Government College University, Faisalabad' 'JKU' 'University of Oviedo'\n",
            " 'Beijing University of Posts & Telecommunications'\n",
            " 'Government College University,Faisalabad' 'Nottingham Trent University'\n",
            " 'University of Glasgow' 'Coventry University'\n",
            " 'Riphah International University,Faisalabad'\n",
            " 'Australian National University, Caneberra'\n",
            " 'Swedish University of Agricultural Sciences, Uppsala'\n",
            " 'University of Gujrat' 'IQRA University,Islamabad' 'Jonkoping University'\n",
            " 'Colorado Technical University' 'Cranfield University'\n",
            " 'Technical University of Graz' 'University of York'\n",
            " 'Brock University Canada' 'University of Westminster'\n",
            " 'University of Saarland' 'The University of Queensland'\n",
            " 'University of Rochester' 'Islamia College University '\n",
            " 'IBMS KP Agricultural University Peshawar' 'University of Kuala Lumpur'\n",
            " 'University of Regina' 'TU Wien' 'Swinburne University Of Technology'\n",
            " 'Institute Of Managment Sciences, Peshawar'\n",
            " 'Universiti Tun Hussein Onn Malaysia'\n",
            " 'Institute of Management Sciences, Peshawar' 'University of Huddersfield'\n",
            " 'University of Engineering and Technology,Peshawar'\n",
            " 'IQRA University,Karachi' 'John Moorse University, Liverpool'\n",
            " 'CECOS University of Information Technology and Emerging Sciences,Peshawar'\n",
            " 'University of the West Scotland' 'Concordia University,Montreal' 'JNU'\n",
            " 'Grenoble' 'Florida Atlantic University' 'Seoul National University']\n"
          ],
          "name": "stdout"
        }
      ]
    },
    {
      "cell_type": "markdown",
      "metadata": {
        "id": "_fcWYMfGJamk",
        "colab_type": "text"
      },
      "source": [
        "# 2) Do some text pre-processing\n",
        "\n",
        "Convert every entry in the \"Graduated from\" column in the professors DataFrame to remove white spaces at the beginning and end of cells."
      ]
    },
    {
      "cell_type": "code",
      "metadata": {
        "id": "wzxmVKhgIfpT",
        "colab_type": "code",
        "colab": {}
      },
      "source": [
        "professores['Graduated from'] = professores['Graduated from'].str.strip()"
      ],
      "execution_count": 46,
      "outputs": []
    },
    {
      "cell_type": "code",
      "metadata": {
        "id": "st77-tugJpYU",
        "colab_type": "code",
        "colab": {
          "base_uri": "https://localhost:8080/",
          "height": 1000
        },
        "outputId": "64264713-edf4-424d-a365-1f6d74399f32"
      },
      "source": [
        "professores['Graduated from'].unique()"
      ],
      "execution_count": 26,
      "outputs": [
        {
          "output_type": "execute_result",
          "data": {
            "text/plain": [
              "array(['Asian Institute of Technology',\n",
              "       'Balochistan University of Information Technology, Engineering and Management Sciences',\n",
              "       'University of Balochistan',\n",
              "       \"Sardar Bahadur Khan Women's University\",\n",
              "       'SRH Hochschule Heidelberg',\n",
              "       'Institute of Business Administration,Karachi', 'DUET,Karachi',\n",
              "       'University of Turbat', 'University of Vienna',\n",
              "       'Monash University', 'University of Stirling',\n",
              "       'Chinese Academy of Sciences', 'University of Innsbruck',\n",
              "       'Vienna University of Technology', 'University of Paris-Est',\n",
              "       'The University of Cambridge', 'Harbin Institute of Technology',\n",
              "       'University of Nice, Sophia Antipolis', 'The University of York',\n",
              "       'Galilée - Université Paris 13', 'University of Bedfordshire',\n",
              "       'North Dakota State University', 'Kyungpook National University',\n",
              "       'The University of Manchester',\n",
              "       'National University of Sciences and Technology',\n",
              "       'FAST– National University of Computer and Emerging Sciences',\n",
              "       'Capital University of Science & Technology', 'Gomal University',\n",
              "       'University of Malaya', 'KTH Royal Institute of Technology',\n",
              "       'University of Technology',\n",
              "       'COMSATS Institute of Information Technology',\n",
              "       'Government College University', 'Mohammad Ali Jinnah University',\n",
              "       'Shaheed Zulfikar Ali Bhutto Institute of Science and Technology',\n",
              "       'Blekinge Institute of Technology', 'University of Grenoble',\n",
              "       'Politecnico di Torino', 'University of Missouri, KC',\n",
              "       'University of Bonn', 'University of Paris',\n",
              "       'The University of Leeds', 'University of Windsor',\n",
              "       'National University of Sciences and Technology-NIIT',\n",
              "       'University of Trento', 'Stockholm University',\n",
              "       'University of New South Wales, Sydney',\n",
              "       'Kingston University London', 'Griffith University',\n",
              "       'University of Salford', 'Loughborough University',\n",
              "       'International Islamic University,Islamabad',\n",
              "       'University of Central Missouri',\n",
              "       'Riphah International University', 'University of BedfordShire',\n",
              "       'University of Illinois', 'University Of Oslo',\n",
              "       'Nancy 2 University', 'University of Limerick',\n",
              "       'Ghulam Ishaq Khan Institute of Science and Technology',\n",
              "       'University Of Waterloo', 'University of Stuttgart',\n",
              "       'Liverpool John Moores University', 'University Of Caen',\n",
              "       'Paris Tech University of Eurecom', 'University Of Salford',\n",
              "       'Lahore University of Management Sciences',\n",
              "       'Dresden University Of Technology, Dresden',\n",
              "       'COMSATS Institute of Information Technology,Vehari',\n",
              "       'COMSATS Institute of Information Technology,Wah Cantt',\n",
              "       'TU Berlin',\n",
              "       'FAST– National University of Computer and Emerging Sciences,Islamabad',\n",
              "       'Tsinghua University', 'The University of Auckland',\n",
              "       'IQRA University', 'Universiti Teknologi PETRONAS',\n",
              "       'COMSATS Institute of Information Technology,Islamabad',\n",
              "       'Razak School of Engineering and Advanced Technology, Universiti Teknologi Malaysia (UTM)',\n",
              "       'National University of Modern Languages',\n",
              "       'University of Engineering and Technology',\n",
              "       'University Institute of Information Technology',\n",
              "       'University of Arid Agriculture', 'Quaid-i-Azam University',\n",
              "       'Queen Mary University of London',\n",
              "       'Pakistan Institute of Engineering and Applied Sciences',\n",
              "       'Pohang University of Science and Technology',\n",
              "       'Uppsala University', 'Kyung Hee University',\n",
              "       'University of Liverpool', 'University of Sunderland',\n",
              "       'Mid Sweden University', 'Bahria University,Islamabad',\n",
              "       'Chosun University', 'University of Sussex',\n",
              "       'Paris Descartes University', 'University of Leicester',\n",
              "       'University of Porto', 'University of Manchester',\n",
              "       'Université Henri Poincaré, Nancy 1,', 'Bahria University',\n",
              "       'Centre for Advanced Studies in Engineering',\n",
              "       'Norwegian University of Science and Technology (NTNU),',\n",
              "       'The Islamia University of Bahawalpur', 'Universiti Technologi',\n",
              "       'California State University', 'University of Genova',\n",
              "       'University of Engineering and Technology,Taxila',\n",
              "       'University of\\xa0Liverpool John Moores University', 'Guildford',\n",
              "       'University of Bradford', 'Graz University of Technology',\n",
              "       'Huazhong University of Science and Technology (HUST), Wuhan',\n",
              "       'University of Konstanz',\n",
              "       'National University of Modern Languages,Islamabad',\n",
              "       'FAST– National University of Computer and Emerging Sciences,Lahore',\n",
              "       'Gwangju Institute of Science and Technology',\n",
              "       'University of Birmingham', 'Manchester University',\n",
              "       'Beijing Institute of Technology', 'University of Paisley',\n",
              "       'Univ of Porto/Univ of Aveiro Portugal/Uni of Minho',\n",
              "       'University of Peshawar', 'Universität Salzburg',\n",
              "       'Colorado State University', 'University of Virginia',\n",
              "       'University of Orleans', 'Zhejiang University',\n",
              "       'University of Leeds', 'Foundation University',\n",
              "       'Barani Institute of Information Technology', 'Abasyn University',\n",
              "       'Pir Mehr Ali Shah Arid Agriculture University', 'Preston',\n",
              "       'University of Bergen', 'Universtiy of Lahore',\n",
              "       'HITEC University,Taxila', 'Allama Iqbal Open University',\n",
              "       'University of Wales,Aberystwyth', 'Hongik University',\n",
              "       'Skolkovo Institute of Science and Technology,',\n",
              "       'Agricultural University Peshawar', 'National Textile University',\n",
              "       'FAST– National University of Computer and Emerging Sciences,Chiniot-Faisalabad',\n",
              "       'FAST– National University of Computer and Emerging Sciences,Peshawar',\n",
              "       'Boston University', 'Brunel University',\n",
              "       'George Washington University', 'University of the Punjab',\n",
              "       'University Of Southern California', 'Beihang University',\n",
              "       'Institute of Business Administration',\n",
              "       'Abdus Salam School of Mathematical Sciences,GC University',\n",
              "       'Linköping University',\n",
              "       'National College of Business Administration and Economics',\n",
              "       'Åbo Akademi University,', 'University of Central Punjab',\n",
              "       'University of Ulm', 'University of Agriculture',\n",
              "       'University of Notre Dame Indiana',\n",
              "       'Punjab University College of Information Technology',\n",
              "       'Ilmenau University of Technology', 'Iowa State University',\n",
              "       'Vrije University, Amsterdam', 'Columbia University',\n",
              "       'University of Freiburg', 'Delft University of Technology',\n",
              "       'University of Texas at Arlington (UTA)', 'University of Turin',\n",
              "       'University of Central Florida', 'Saarland University',\n",
              "       'Oxford Brookes University',\n",
              "       'Information Technology University (ITU)',\n",
              "       'University of Canterbury', 'University of Patras',\n",
              "       'Middle East Technical University', 'University of Bristol',\n",
              "       'University of Southern California',\n",
              "       'Northeastern University,Boston', 'Purdue University',\n",
              "       'University of Plymouth', 'University of South Australia',\n",
              "       'Stanford University', 'Chalmers University of Technology',\n",
              "       'Massachusetts Institute of Technology',\n",
              "       'Sapienza University of Rome',\n",
              "       'Eindhoven University of Technology (TU/e)',\n",
              "       'United Nations University International Institute for Software Technology (UNU-IIST)',\n",
              "       'Georgetown University,DC', 'RWTH Aachen University',\n",
              "       'Rutgers State University of New Jersey, NJ',\n",
              "       'University of Florida', 'Technical University of Braunschweig',\n",
              "       'Carnegie Mellon University, Pittsburgh',\n",
              "       'The Ohio State University', 'National University of Singapore',\n",
              "       'University of British Columbia', 'University of Pittsburgh',\n",
              "       'The State University of New Jersey',\n",
              "       'The University of Texas at Austin',\n",
              "       'Imperial College, University of London', 'University of Colorado',\n",
              "       'University of Bath', 'Tilburg University',\n",
              "       'Pompeu Fabra University Barcelona',\n",
              "       'University of Management and Technology',\n",
              "       'COMSATS Institute of Information Technology,Lahore',\n",
              "       'University of Agriculture, Faisalabad',\n",
              "       'University of Engineering & Technology',\n",
              "       'Fatima Jinnah Women University, Rawalpindi',\n",
              "       'Kohat University of Science & Technology, Kohat',\n",
              "       'Virtual University of Pakistan', 'Bahauddin Zakariya University',\n",
              "       'University of the Punjab,Gujranwala',\n",
              "       'Lahore College for Women University',\n",
              "       'Superior University, Lahore',\n",
              "       'Shaheed Zulfikar Ali Bhutto Institute of Science and Technology,Islamabad',\n",
              "       'University of South Florida', 'Politecnico di Milano',\n",
              "       'Abdul Wali Khan University, Mardan', 'University of Lahore',\n",
              "       'Minhaj University Lahore', 'Lahore Leads University',\n",
              "       'Middlesex University', 'Beijing Institute of Technology Beijing',\n",
              "       'Beaconhouse National University', 'Hamdard University',\n",
              "       'University Paris', 'Sindh University',\n",
              "       'NED University of Engineering And Technology',\n",
              "       'Staffordshire University', 'DePaul University, Chicago',\n",
              "       'University of Kent',\n",
              "       'Mehran University of Engineering & Technology',\n",
              "       'Quaid-e-Awam University of Engineering, Science & Technology',\n",
              "       'Shah Abdul Latif University, Khairpur',\n",
              "       'Sindh Agriculture University', 'Swansea',\n",
              "       'University of Shanghai for Science and Technology',\n",
              "       'Griffith University,Nathan Campus', 'University of Essex',\n",
              "       'Xiamen university', 'Wayne State University',\n",
              "       'The Queens University of Belfast', 'Sungkyunkwan University',\n",
              "       'Nanyang Tech University', \"Universite d'Evry Val d'Essonne\",\n",
              "       'Sir Syed University of Engineering and Technology',\n",
              "       'New York Institute of Technology', 'Fedral Urdu University',\n",
              "       'ISRA University', 'University of Karachi',\n",
              "       'South Asian University',\n",
              "       'Capital University of Science and Technology',\n",
              "       'University of Manchester Institute of Science and Technology',\n",
              "       'The University of Birmingham',\n",
              "       'Max Planck Institute for Computer Science',\n",
              "       'George Mason University', 'University of Southampton',\n",
              "       'Temple University', 'University of Bayreuth',\n",
              "       'Muroran Institute of Technology,Hokkaido',\n",
              "       'University of Bologna', 'International Islamic University',\n",
              "       'PAF-Karachi Institute of Economics and Technology',\n",
              "       'Institute of Business Administration,Sukkur',\n",
              "       'Myongji University', 'State University of New York System',\n",
              "       'SSindh Agriculture University', 'London University',\n",
              "       'Universiti Putra Malaysia Putra',\n",
              "       'University of Rome Tor Vergata', 'University of Mississippi',\n",
              "       'University of Wales', 'University of Northampton',\n",
              "       'University of Abertay Dundee',\n",
              "       'Biztek Institute Of Business & Technology,Karachi',\n",
              "       'University of Surrey', 'Jinnah University for Women',\n",
              "       'Nanyang Technological University',\n",
              "       'Tokyo Institute of Technology', 'NCSU',\n",
              "       'Usman Institute of Technology', 'Hanyang University, Ansan',\n",
              "       'BUKC', 'Universtiy of Karachi', 'Pace University, New York',\n",
              "       'INSA de Lyon, Rhone', 'University of Dundee',\n",
              "       'Illinois Institute of Technology',\n",
              "       'City University of Science and Technology',\n",
              "       'Usman Institute of Technology (Hamdard University)',\n",
              "       'University of Malaga', 'Manchester Metropolitan University',\n",
              "       'Kyushu University,Fukuoka',\n",
              "       'King Abdullah University of Science and Technology',\n",
              "       'INRIA Saclay Ile-de-France', 'Université de la Rochelle',\n",
              "       'University of South Brittany', 'Aston University, Birmingham',\n",
              "       'University of Agriculture Faisalabad',\n",
              "       'Hamburg University of Technology',\n",
              "       'Government College University, Faisalabad', 'JKU',\n",
              "       'University of Oviedo',\n",
              "       'Beijing University of Posts & Telecommunications',\n",
              "       'Government College University,Faisalabad',\n",
              "       'Nottingham Trent University', 'University of Glasgow',\n",
              "       'Coventry University',\n",
              "       'Riphah International University,Faisalabad',\n",
              "       'Australian National University, Caneberra',\n",
              "       'Swedish University of Agricultural Sciences, Uppsala',\n",
              "       'University of Gujrat', 'IQRA University,Islamabad',\n",
              "       'Jonkoping University', 'Colorado Technical University',\n",
              "       'Cranfield University', 'Technical University of Graz',\n",
              "       'University of York', 'Brock University Canada',\n",
              "       'University of Westminster', 'University of Saarland',\n",
              "       'The University of Queensland', 'University of Rochester',\n",
              "       'Islamia College University',\n",
              "       'IBMS KP Agricultural University Peshawar',\n",
              "       'University of Kuala Lumpur', 'University of Regina', 'TU Wien',\n",
              "       'Swinburne University Of Technology',\n",
              "       'Institute Of Managment Sciences, Peshawar',\n",
              "       'Universiti Tun Hussein Onn Malaysia',\n",
              "       'Institute of Management Sciences, Peshawar',\n",
              "       'University of Huddersfield',\n",
              "       'University of Engineering and Technology,Peshawar',\n",
              "       'IQRA University,Karachi', 'John Moorse University, Liverpool',\n",
              "       'CECOS University of Information Technology and Emerging Sciences,Peshawar',\n",
              "       'University of the West Scotland', 'Concordia University,Montreal',\n",
              "       'JNU', 'Grenoble', 'Florida Atlantic University',\n",
              "       'Seoul National University'], dtype=object)"
            ]
          },
          "metadata": {
            "tags": []
          },
          "execution_count": 26
        }
      ]
    },
    {
      "cell_type": "markdown",
      "metadata": {
        "id": "onGUypRHKDDg",
        "colab_type": "text"
      },
      "source": [
        "## 3) Continue working with countries\n",
        "\n",
        "In the tutorial, we focused on cleaning up inconsistencies in the \"Country\" column. Run the code cell below to view the list of unique values that we ended with."
      ]
    },
    {
      "cell_type": "code",
      "metadata": {
        "id": "9lJlqvcbJt_o",
        "colab_type": "code",
        "colab": {
          "base_uri": "https://localhost:8080/",
          "height": 134
        },
        "outputId": "05b3e3f5-022e-4dc1-ffca-7562e0c70363"
      },
      "source": [
        "# get all the unique values in the 'City' column\n",
        "countries = professores['Country'].unique()\n",
        "\n",
        "# sort them alphabetically and then take a closer look\n",
        "countries.sort()\n",
        "countries"
      ],
      "execution_count": 47,
      "outputs": [
        {
          "output_type": "execute_result",
          "data": {
            "text/plain": [
              "array(['australia', 'austria', 'canada', 'china', 'finland', 'france',\n",
              "       'germany', 'greece', 'hongkong', 'ireland', 'italy', 'japan',\n",
              "       'macau', 'malaysia', 'mauritius', 'netherland', 'new zealand',\n",
              "       'norway', 'pakistan', 'portugal', 'russian federation',\n",
              "       'saudi arabia', 'scotland', 'singapore', 'south korea', 'spain',\n",
              "       'sweden', 'thailand', 'turkey', 'uk', 'urbana', 'usa', 'usofa'],\n",
              "      dtype=object)"
            ]
          },
          "metadata": {
            "tags": []
          },
          "execution_count": 47
        }
      ]
    },
    {
      "cell_type": "markdown",
      "metadata": {
        "id": "QT_8p_ADKgkp",
        "colab_type": "text"
      },
      "source": [
        "Take another look at the \"Country\" column and see if there's any more data cleaning we need to do.\n",
        "\n",
        "It looks like 'usa' and 'usofa' should be the same country. Correct the \"Country\" column in the dataframe so that 'usofa' appears instead as 'usa'.\n",
        "\n",
        "Use the most recent version of the DataFrame (with the whitespaces at the beginning and end of cells removed) from question 2."
      ]
    },
    {
      "cell_type": "code",
      "metadata": {
        "id": "aJF6_-_mLI_X",
        "colab_type": "code",
        "colab": {
          "base_uri": "https://localhost:8080/",
          "height": 34
        },
        "outputId": "6626249c-f4c3-473a-c421-6289c47c151b"
      },
      "source": [
        "matches = fuzzywuzzy.process.extract(\"usa\", countries, limit=10, scorer=fuzzywuzzy.fuzz.token_sort_ratio)\n",
        "print(matches)"
      ],
      "execution_count": 48,
      "outputs": [
        {
          "output_type": "stream",
          "text": [
            "[('usa', 100), ('usofa', 75), ('austria', 60), ('australia', 50), ('spain', 50), ('urbana', 44), ('uk', 40), ('malaysia', 36), ('pakistan', 36), ('portugal', 36)]\n"
          ],
          "name": "stdout"
        }
      ]
    },
    {
      "cell_type": "code",
      "metadata": {
        "id": "ErRN4fyAKLTD",
        "colab_type": "code",
        "colab": {
          "base_uri": "https://localhost:8080/",
          "height": 34
        },
        "outputId": "bab6fbf0-19cc-4b3a-f4db-808beed218b8"
      },
      "source": [
        "replace_matches_in_column(df=professores,column='Country',string_to_match='usa',min_ratio=70)"
      ],
      "execution_count": 49,
      "outputs": [
        {
          "output_type": "stream",
          "text": [
            "All done!\n"
          ],
          "name": "stdout"
        }
      ]
    },
    {
      "cell_type": "code",
      "metadata": {
        "id": "KHIUX_TzKvFt",
        "colab_type": "code",
        "colab": {
          "base_uri": "https://localhost:8080/",
          "height": 118
        },
        "outputId": "9c846058-b147-4876-88b2-172f5101a6b2"
      },
      "source": [
        "professores['Country'].unique()"
      ],
      "execution_count": 50,
      "outputs": [
        {
          "output_type": "execute_result",
          "data": {
            "text/plain": [
              "array(['thailand', 'pakistan', 'germany', 'austria', 'australia', 'uk',\n",
              "       'china', 'france', 'usa', 'south korea', 'malaysia', 'sweden',\n",
              "       'italy', 'canada', 'norway', 'ireland', 'new zealand', 'urbana',\n",
              "       'portugal', 'russian federation', 'finland', 'netherland',\n",
              "       'greece', 'turkey', 'macau', 'singapore', 'spain', 'japan',\n",
              "       'hongkong', 'saudi arabia', 'mauritius', 'scotland'], dtype=object)"
            ]
          },
          "metadata": {
            "tags": []
          },
          "execution_count": 50
        }
      ]
    },
    {
      "cell_type": "code",
      "metadata": {
        "id": "4sI3kU79KzFa",
        "colab_type": "code",
        "colab": {}
      },
      "source": [
        ""
      ],
      "execution_count": null,
      "outputs": []
    }
  ]
}